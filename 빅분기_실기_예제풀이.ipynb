{
  "nbformat": 4,
  "nbformat_minor": 0,
  "metadata": {
    "colab": {
      "name": "빅분기 실기 예제풀이.ipynb",
      "provenance": [],
      "toc_visible": true,
      "authorship_tag": "ABX9TyNjchtIKUVjBO+yu8VOqUlP",
      "include_colab_link": true
    },
    "kernelspec": {
      "name": "python3",
      "display_name": "Python 3"
    },
    "language_info": {
      "name": "python"
    }
  },
  "cells": [
    {
      "cell_type": "markdown",
      "metadata": {
        "id": "view-in-github",
        "colab_type": "text"
      },
      "source": [
        "<a href=\"https://colab.research.google.com/github/koreahong/-/blob/main/%EB%B9%85%EB%B6%84%EA%B8%B0_%EC%8B%A4%EA%B8%B0_%EC%98%88%EC%A0%9C%ED%92%80%EC%9D%B4.ipynb\" target=\"_parent\"><img src=\"https://colab.research.google.com/assets/colab-badge.svg\" alt=\"Open In Colab\"/></a>"
      ]
    },
    {
      "cell_type": "code",
      "metadata": {
        "id": "fTrFrJzi8CQI"
      },
      "source": [
        "#한글폰트 다운\n",
        "!sudo apt-get install -y fonts-nanum\n",
        "!sudo fc-cache -fv\n",
        "!rm ~/.cache/matplotlib -rf"
      ],
      "execution_count": null,
      "outputs": []
    },
    {
      "cell_type": "code",
      "metadata": {
        "colab": {
          "base_uri": "https://localhost:8080/"
        },
        "id": "vdmbTJVinWET",
        "outputId": "c99a311b-a387-47bf-8d5d-19a665101ce6"
      },
      "source": [
        "  #구글 들라이브 연동\n",
        "from google.colab import drive \n",
        "drive.mount('/content/drive/')"
      ],
      "execution_count": null,
      "outputs": [
        {
          "output_type": "stream",
          "text": [
            "Mounted at /content/drive/\n"
          ],
          "name": "stdout"
        }
      ]
    },
    {
      "cell_type": "code",
      "metadata": {
        "id": "hmudFQh3S6S7"
      },
      "source": [
        "#기본패키지 실행\n",
        "import pandas as pd\n",
        "import matplotlib.pyplot as plt\n",
        "import numpy as np\n",
        "%matplotlib inline"
      ],
      "execution_count": null,
      "outputs": []
    },
    {
      "cell_type": "markdown",
      "metadata": {
        "id": "RRPtIB2voqBh"
      },
      "source": [
        "#데이터 수집"
      ]
    },
    {
      "cell_type": "code",
      "metadata": {
        "id": "Uyy8h1osnKMe"
      },
      "source": [
        "x_train = pd.read_csv(\"/content/drive/MyDrive/데이터분석 공부/data/X_train.csv\", encoding='euc-kr')\n",
        "y_train = pd.read_csv(\"/content/drive/MyDrive/데이터분석 공부/data/y_train.csv\", encoding='euc-kr')\n",
        "x_test = pd.read_csv(\"/content/drive/MyDrive/데이터분석 공부/data/X_test.csv\", encoding='euc-kr')"
      ],
      "execution_count": null,
      "outputs": []
    },
    {
      "cell_type": "code",
      "metadata": {
        "id": "MuOymdJ6Cr9L"
      },
      "source": [
        "x_train_copy = x_train.copy()\n",
        "y_train_copy = y_train.copy()\n",
        "x_test_copy = x_test.copy()"
      ],
      "execution_count": null,
      "outputs": []
    },
    {
      "cell_type": "markdown",
      "metadata": {
        "id": "yv8n5FgOopgY"
      },
      "source": [
        "#데이터 전처리"
      ]
    },
    {
      "cell_type": "code",
      "metadata": {
        "colab": {
          "base_uri": "https://localhost:8080/"
        },
        "id": "EYgXl_JbY-ps",
        "outputId": "10393a14-2c11-4fc7-b73c-32fe36dce71a"
      },
      "source": [
        "x_train.info()"
      ],
      "execution_count": null,
      "outputs": [
        {
          "output_type": "stream",
          "text": [
            "<class 'pandas.core.frame.DataFrame'>\n",
            "RangeIndex: 3500 entries, 0 to 3499\n",
            "Data columns (total 10 columns):\n",
            " #   Column   Non-Null Count  Dtype  \n",
            "---  ------   --------------  -----  \n",
            " 0   cust_id  3500 non-null   int64  \n",
            " 1   총구매액     3500 non-null   int64  \n",
            " 2   최대구매액    3500 non-null   int64  \n",
            " 3   환불금액     1205 non-null   float64\n",
            " 4   주구매상품    3500 non-null   object \n",
            " 5   주구매지점    3500 non-null   object \n",
            " 6   내점일수     3500 non-null   int64  \n",
            " 7   내점당구매건수  3500 non-null   float64\n",
            " 8   주말방문비율   3500 non-null   float64\n",
            " 9   구매주기     3500 non-null   int64  \n",
            "dtypes: float64(3), int64(5), object(2)\n",
            "memory usage: 273.6+ KB\n"
          ],
          "name": "stdout"
        }
      ]
    },
    {
      "cell_type": "markdown",
      "metadata": {
        "id": "aDZgtfRSosaB"
      },
      "source": [
        "### null 값 확인"
      ]
    },
    {
      "cell_type": "markdown",
      "metadata": {
        "id": "yAbC5lzisQ56"
      },
      "source": [
        "### EDA 후 바로 적용"
      ]
    },
    {
      "cell_type": "code",
      "metadata": {
        "id": "jUg3Ia6GsWXF"
      },
      "source": [
        "x_test_copy = x_test_copy.fillna(0)\n",
        "x_train_copy = x_train_copy.fillna(0)"
      ],
      "execution_count": null,
      "outputs": []
    },
    {
      "cell_type": "markdown",
      "metadata": {
        "id": "rDWztH4XsSy3"
      },
      "source": [
        "###EDA 전 데이터 확인"
      ]
    },
    {
      "cell_type": "code",
      "metadata": {
        "colab": {
          "base_uri": "https://localhost:8080/"
        },
        "id": "zTVkNpF4nj2A",
        "outputId": "863d8e52-55c7-4424-adf3-5b1ca9a8b574"
      },
      "source": [
        "x_train.isnull().sum()"
      ],
      "execution_count": null,
      "outputs": [
        {
          "output_type": "execute_result",
          "data": {
            "text/plain": [
              "cust_id       0\n",
              "총구매액          0\n",
              "최대구매액         0\n",
              "환불금액       2295\n",
              "주구매상품         0\n",
              "주구매지점         0\n",
              "내점일수          0\n",
              "내점당구매건수       0\n",
              "주말방문비율        0\n",
              "구매주기          0\n",
              "dtype: int64"
            ]
          },
          "metadata": {
            "tags": []
          },
          "execution_count": 106
        }
      ]
    },
    {
      "cell_type": "code",
      "metadata": {
        "colab": {
          "base_uri": "https://localhost:8080/"
        },
        "id": "krxn7yIGoKfg",
        "outputId": "4c440d8d-114a-49ba-a34f-28c52b36335f"
      },
      "source": [
        "x_test.isnull().sum()"
      ],
      "execution_count": null,
      "outputs": [
        {
          "output_type": "execute_result",
          "data": {
            "text/plain": [
              "cust_id       0\n",
              "총구매액          0\n",
              "최대구매액         0\n",
              "환불금액       1611\n",
              "주구매상품         0\n",
              "주구매지점         0\n",
              "내점일수          0\n",
              "내점당구매건수       0\n",
              "주말방문비율        0\n",
              "구매주기          0\n",
              "dtype: int64"
            ]
          },
          "metadata": {
            "tags": []
          },
          "execution_count": 107
        }
      ]
    },
    {
      "cell_type": "markdown",
      "metadata": {
        "id": "xx9XI9Fqo0um"
      },
      "source": [
        "환불금액 피쳐 처리\n",
        "1. 환불금액은 train, test 모두 과반 이상의 널값을 가지고 있다. 환불금액 특성상 평균값이나 대체값을 넣기에는 부적절함으로 피처를 삭제\n",
        "2. gender와 확인 후 사용여부 결정\n",
        "\n"
      ]
    },
    {
      "cell_type": "markdown",
      "metadata": {
        "id": "Rok0ocgcSD24"
      },
      "source": [
        "#### 성별 환불금액 그래프"
      ]
    },
    {
      "cell_type": "code",
      "metadata": {
        "colab": {
          "base_uri": "https://localhost:8080/",
          "height": 297
        },
        "id": "sXWnShBfRggO",
        "outputId": "76aab38e-0871-4440-a9e0-789b77075143"
      },
      "source": [
        "plt.scatter(x_train_copy['환불금액'],y_train_copy['gender'])"
      ],
      "execution_count": null,
      "outputs": [
        {
          "output_type": "execute_result",
          "data": {
            "text/plain": [
              "<matplotlib.collections.PathCollection at 0x7f4be637e510>"
            ]
          },
          "metadata": {
            "tags": []
          },
          "execution_count": 110
        },
        {
          "output_type": "display_data",
          "data": {
            "image/png": "[encoded data removed]",
            "text/plain": [
              "<Figure size 432x288 with 1 Axes>"
            ]
          },
          "metadata": {
            "tags": [],
            "needs_background": "light"
          }
        }
      ]
    },
    {
      "cell_type": "code",
      "metadata": {
        "colab": {
          "base_uri": "https://localhost:8080/",
          "height": 175
        },
        "id": "FqlBQUSESZbk",
        "outputId": "e8a4763d-4666-42dd-a567-484d8c3792ca"
      },
      "source": [
        "#성별 환불여부 카운트\n",
        "pd.DataFrame([x_train_copy['환불금액'], y_train_copy['gender']]).T.groupby('gender').agg(['size', 'mean', 'std', 'min', 'max','count'])\n",
        "\n"
      ],
      "execution_count": null,
      "outputs": [
        {
          "output_type": "execute_result",
          "data": {
            "text/html": [
              "<div>\n",
              "<style scoped>\n",
              "    .dataframe tbody tr th:only-of-type {\n",
              "        vertical-align: middle;\n",
              "    }\n",
              "\n",
              "    .dataframe tbody tr th {\n",
              "        vertical-align: top;\n",
              "    }\n",
              "\n",
              "    .dataframe thead tr th {\n",
              "        text-align: left;\n",
              "    }\n",
              "\n",
              "    .dataframe thead tr:last-of-type th {\n",
              "        text-align: right;\n",
              "    }\n",
              "</style>\n",
              "<table border=\"1\" class=\"dataframe\">\n",
              "  <thead>\n",
              "    <tr>\n",
              "      <th></th>\n",
              "      <th colspan=\"6\" halign=\"left\">환불금액</th>\n",
              "    </tr>\n",
              "    <tr>\n",
              "      <th></th>\n",
              "      <th>size</th>\n",
              "      <th>mean</th>\n",
              "      <th>std</th>\n",
              "      <th>min</th>\n",
              "      <th>max</th>\n",
              "      <th>count</th>\n",
              "    </tr>\n",
              "    <tr>\n",
              "      <th>gender</th>\n",
              "      <th></th>\n",
              "      <th></th>\n",
              "      <th></th>\n",
              "      <th></th>\n",
              "      <th></th>\n",
              "      <th></th>\n",
              "    </tr>\n",
              "  </thead>\n",
              "  <tbody>\n",
              "    <tr>\n",
              "      <th>0.0</th>\n",
              "      <td>2184</td>\n",
              "      <td>2.616227e+07</td>\n",
              "      <td>5.117071e+07</td>\n",
              "      <td>18000.0</td>\n",
              "      <td>563753000.0</td>\n",
              "      <td>915</td>\n",
              "    </tr>\n",
              "    <tr>\n",
              "      <th>1.0</th>\n",
              "      <td>1316</td>\n",
              "      <td>1.750266e+07</td>\n",
              "      <td>3.236366e+07</td>\n",
              "      <td>5600.0</td>\n",
              "      <td>210771400.0</td>\n",
              "      <td>290</td>\n",
              "    </tr>\n",
              "  </tbody>\n",
              "</table>\n",
              "</div>"
            ],
            "text/plain": [
              "        환불금액                                                        \n",
              "        size          mean           std      min          max count\n",
              "gender                                                              \n",
              "0.0     2184  2.616227e+07  5.117071e+07  18000.0  563753000.0   915\n",
              "1.0     1316  1.750266e+07  3.236366e+07   5600.0  210771400.0   290"
            ]
          },
          "metadata": {
            "tags": []
          },
          "execution_count": 126
        }
      ]
    },
    {
      "cell_type": "markdown",
      "metadata": {
        "id": "kG1xGUQpTim7"
      },
      "source": [
        "- 성별간에 환불여부의 숫자에서 유의미한 차이가 보인다\n",
        "- 단, 환불금액이나 차이등에서 뚜렷한 차이가 없음으로 환불을 했으면 1, 없으면 0으로 대체하여 사용"
      ]
    },
    {
      "cell_type": "code",
      "metadata": {
        "id": "e6gHrGisUoig"
      },
      "source": [
        "#환불을 했으면 1, 없으면 0으로 대체하여 사용\n",
        "x_train_copy['환불금액'] = x_train_copy['환불금액'].apply(lambda x: 1 if x > 0 else 0)\n",
        "x_test_copy['환불금액'] = x_test_copy['환불금액'].apply(lambda x: 1 if x > 0 else 0)"
      ],
      "execution_count": null,
      "outputs": []
    },
    {
      "cell_type": "code",
      "metadata": {
        "id": "q1ZiSRVqb2kj"
      },
      "source": [
        "x_train_copy['환불금액']= x_train_copy['환불금액'].astype('object')"
      ],
      "execution_count": null,
      "outputs": []
    },
    {
      "cell_type": "code",
      "metadata": {
        "id": "0_iDP97KoY7F"
      },
      "source": [
        "##환불금액이 무의미이면 삭제\n",
        "# c  x_test_copy.drop('환불금액', inplace=True, axis=1)\n",
        "# x_train_copy.drop('환불금액', inplace=True, axis=1)"
      ],
      "execution_count": null,
      "outputs": []
    },
    {
      "cell_type": "markdown",
      "metadata": {
        "id": "M3NDJrXoY-D8"
      },
      "source": [
        "### 불필요한 컬럼삭제"
      ]
    },
    {
      "cell_type": "code",
      "metadata": {
        "id": "UB9LSF6CNX04"
      },
      "source": [
        "#cust_id 삭제\n",
        "x_test_copy.drop('cust_id', inplace=True, axis=1)\n",
        "x_train_copy.drop('cust_id', inplace=True, axis=1)\n",
        "y_train_copy.drop('cust_id', inplace=True, axis=1)\n"
      ],
      "execution_count": null,
      "outputs": []
    },
    {
      "cell_type": "markdown",
      "metadata": {
        "id": "Up3HNE9npDYW"
      },
      "source": [
        "### 분포확인"
      ]
    },
    {
      "cell_type": "markdown",
      "metadata": {
        "id": "kjZ8FuNaXbSf"
      },
      "source": [
        "- 분포가 한쪽으로 치우쳐져 있음으로 로그변환 및 정규화 수행\n",
        "- 로지스틱 회귀를 사용할 것임으로 정규화 진행"
      ]
    },
    {
      "cell_type": "code",
      "metadata": {
        "id": "p38QgWopK4_h"
      },
      "source": [
        "x_train_copy['총구매액'].hist()"
      ],
      "execution_count": null,
      "outputs": []
    },
    {
      "cell_type": "code",
      "metadata": {
        "id": "wDT78CQaoiOj"
      },
      "source": [
        "x_train_copy.hist()"
      ],
      "execution_count": null,
      "outputs": []
    },
    {
      "cell_type": "code",
      "metadata": {
        "colab": {
          "base_uri": "https://localhost:8080/",
          "height": 369
        },
        "id": "ABZfvq2WoT6N",
        "outputId": "6d88a4b4-d9c1-4f87-fb01-09763a59d353"
      },
      "source": [
        "for num, data in zip(list(range(1, 11)), x_train_copy.columns[1:]):\n",
        "    print(num, data)\n",
        "    plt.subplot(5, 2, num)\n",
        "    plt.hist(x_train_copy[data])"
      ],
      "execution_count": null,
      "outputs": [
        {
          "output_type": "stream",
          "text": [
            "1 총구매액\n",
            "2 최대구매액\n",
            "3 주구매상품\n",
            "4 주구매지점\n",
            "5 내점일수\n",
            "6 내점당구매건수\n",
            "7 주말방문비율\n",
            "8 구매주기\n"
          ],
          "name": "stdout"
        },
        {
          "output_type": "display_data",
          "data": {
            "image/png": "[encoded data removed]",
            "text/plain": [
              "<Figure size 432x288 with 8 Axes>"
            ]
          },
          "metadata": {
            "tags": [],
            "needs_background": "light"
          }
        }
      ]
    },
    {
      "cell_type": "code",
      "metadata": {
        "id": "OnGqEKqCYbKj"
      },
      "source": [
        "heat_col = list(set(x_train_copy.columns)-set(['주구매상품','주구매지점']))\n",
        "\n",
        "plt.rc('font', family='NanumBarunGothic') \n",
        "plt.figure(figsize=(10,8))\n",
        "plt.pcolor(x_train_copy[heat_col].corr())\n",
        "plt.xticks(np.arange(0.5, len(heat_col), 1), heat_col)\n",
        "\n",
        "plt.yticks(np.arange(0.5, len(heat_col), 1), heat_col)\n",
        "plt.colorbar()"
      ],
      "execution_count": null,
      "outputs": []
    },
    {
      "cell_type": "markdown",
      "metadata": {
        "id": "BQKp0Ycd9uOP"
      },
      "source": [
        "## 이상치 확인"
      ]
    },
    {
      "cell_type": "code",
      "metadata": {
        "id": "evPmpWWY9v1G"
      },
      "source": [
        "for i in heat_col:\n",
        "  q1, q3 = np.percentile(x_train_copy[i].values,[25,75])\n",
        "  iqr = q3-q1\n",
        "  lower_bound = q1 - (iqr * 1.5)\n",
        "  upper_bound = q3 + (iqr * 1.5)\n",
        "\n",
        "  outlier_index = x_train_copy[(x_train_copy[i] > upper_bound) | (x_train_copy[i] < lower_bound)].index\n",
        "  x_train_copy.drop(outlier_index, axis=0, inplace= True)\n",
        "  x_train_copy.reset_index(drop=True, inplace=True)\n",
        "  y_train_copy.drop(outlier_index, axis=0, inplace= True)\n",
        "  y_train_copy.reset_index(drop=True, inplace=True)"
      ],
      "execution_count": null,
      "outputs": []
    },
    {
      "cell_type": "markdown",
      "metadata": {
        "id": "VJTYGJYidRSH"
      },
      "source": [
        "## 원핫 인코딩"
      ]
    },
    {
      "cell_type": "code",
      "metadata": {
        "id": "F9kgtustcLYf"
      },
      "source": [
        "x_train_copy['환불여부'] = x_train_copy['환불금액']\n",
        "x_test_copy['환불여부'] = x_test_copy['환불금액']\n",
        "x_train_copy.drop('환불금액', axis=1,inplace=True)\n",
        "x_test_copy.drop('환불금액', axis=1,inplace=True)"
      ],
      "execution_count": null,
      "outputs": []
    },
    {
      "cell_type": "code",
      "metadata": {
        "id": "TLL5G203eO8N"
      },
      "source": [
        "x_train_copy.drop('주구매지점', axis=1,inplace=True)\n",
        "x_test_copy.drop('주구매지점', axis=1,inplace=True)"
      ],
      "execution_count": null,
      "outputs": []
    },
    {
      "cell_type": "code",
      "metadata": {
        "id": "vFDWDhy3dT5o"
      },
      "source": [
        "all_data = pd.concat((x_train_copy,x_test_copy))\n",
        "\n",
        "for column in all_data.select_dtypes(include=[np.object]).columns:\n",
        "    x_train_copy[column] = pd.Categorical(x_train_copy[column], categories = all_data[column].unique()) \n",
        "    x_test_copy[column] = pd.Categorical(x_test_copy[column], categories = all_data[column].unique()) "
      ],
      "execution_count": null,
      "outputs": []
    },
    {
      "cell_type": "code",
      "metadata": {
        "id": "YcES0khuD_cQ"
      },
      "source": [
        "x_train_copy = pd.get_dummies(x_train_copy)\n",
        "x_test_copy = pd.get_dummies(x_test_copy)"
      ],
      "execution_count": null,
      "outputs": []
    },
    {
      "cell_type": "markdown",
      "metadata": {
        "id": "Vh5FWnIRdDAy"
      },
      "source": [
        "### 로그변환"
      ]
    },
    {
      "cell_type": "code",
      "metadata": {
        "colab": {
          "base_uri": "https://localhost:8080/"
        },
        "id": "rL0mernodFRs",
        "outputId": "08de6868-8597-4ef2-f598-a1f6d3beb9ea"
      },
      "source": [
        "for i in x_train_copy.columns[:6]:\n",
        "  x_train_copy[i] = np.log1p(x_train_copy[i])"
      ],
      "execution_count": null,
      "outputs": [
        {
          "output_type": "stream",
          "text": [
            "/usr/local/lib/python3.7/dist-packages/pandas/core/series.py:726: RuntimeWarning: invalid value encountered in log1p\n",
            "  result = getattr(ufunc, method)(*inputs, **kwargs)\n"
          ],
          "name": "stderr"
        }
      ]
    },
    {
      "cell_type": "markdown",
      "metadata": {
        "id": "4VunkC0Jja3J"
      },
      "source": [
        "### 정규화"
      ]
    },
    {
      "cell_type": "code",
      "metadata": {
        "id": "jI8uHJWFnq3g"
      },
      "source": [
        "from sklearn.preprocessing import StandardScaler as SS\n",
        "\n",
        "\n",
        "scaler = SS()\n",
        "\n",
        "data_scaled = scaler.fit_transform(x_train_copy.iloc[:,:7])"
      ],
      "execution_count": null,
      "outputs": []
    },
    {
      "cell_type": "code",
      "metadata": {
        "id": "efiZ26r6XdAE"
      },
      "source": [
        "x_train_copy = pd.concat([pd.DataFrame(data_scaled), x_train_copy.iloc[:,7:]],axis = 1)"
      ],
      "execution_count": null,
      "outputs": []
    },
    {
      "cell_type": "markdown",
      "metadata": {
        "id": "j_KD7dK_jfKL"
      },
      "source": [
        "### 데이터셋 나누기\n",
        "- 트레이닝 데이터 -> 학습, 테스트로 나누기"
      ]
    },
    {
      "cell_type": "code",
      "metadata": {
        "id": "lBeyW-Gdjd-z"
      },
      "source": [
        "from sklearn.model_selection import train_test_split\n",
        "\n",
        "x_train_renew, x_text_renew, y_train_renew, y_test_renew = train_test_split(x_train_copy, y_train_copy, test_size=0.2, random_state=28)"
      ],
      "execution_count": null,
      "outputs": []
    },
    {
      "cell_type": "markdown",
      "metadata": {
        "id": "H8ywN3w1MnZX"
      },
      "source": [
        "#모델 생성"
      ]
    },
    {
      "cell_type": "markdown",
      "metadata": {
        "id": "Z-lkUMgCsuIT"
      },
      "source": [
        "### 로지스틱 회귀"
      ]
    },
    {
      "cell_type": "code",
      "metadata": {
        "id": "Xa_1uWnnMpjw"
      },
      "source": [
        "from sklearn.linear_model import LogisticRegression\n",
        "from sklearn.model_selection import GridSearchCV as GS\n",
        "from sklearn.ensemble import RandomForestClassifier as RF\n",
        "from xgboost import XGBClassifier as xgb\n",
        "from lightgbm import LGBMClassifier as lgb"
      ],
      "execution_count": null,
      "outputs": []
    },
    {
      "cell_type": "code",
      "metadata": {
        "id": "wNKja9aqNCVK"
      },
      "source": [
        "lr_clf = LogisticRegression()\n",
        "\n",
        "params = {\n",
        "    'max_iter' : [1000,10000],\n",
        "    'C' : [0.1,0.5,1,5,10],\n",
        "    'penalty' : ['l1','l2'],\n",
        "    'solver' : ['liblinear'],\n",
        "    'verbose' : [0],\n",
        "}\n",
        "grid_lr = GS(lr_clf, param_grid=params, cv=3)\n",
        "grid_lr.fit(x_train_renew, y_train_renew.values.ravel())"
      ],
      "execution_count": null,
      "outputs": []
    },
    {
      "cell_type": "code",
      "metadata": {
        "colab": {
          "base_uri": "https://localhost:8080/"
        },
        "id": "qR1S2XGVizkx",
        "outputId": "ca3b13a5-bdb2-405f-c756-5a31ac25f9c8"
      },
      "source": [
        "grid_lr_pred_proba = grid_rf.predict_proba(x_text_renew)"
      ],
      "execution_count": null,
      "outputs": [
        {
          "output_type": "stream",
          "text": [
            "[Parallel(n_jobs=1)]: Using backend SequentialBackend with 1 concurrent workers.\n",
            "[Parallel(n_jobs=1)]: Done 100 out of 100 | elapsed:    0.0s finished\n"
          ],
          "name": "stderr"
        }
      ]
    },
    {
      "cell_type": "code",
      "metadata": {
        "id": "9JHsHMQJj7rn"
      },
      "source": [
        "from sklearn.preprocessing import Binarizer\n",
        "from sklearn.metrics import accuracy_score, precision_score,recall_score,confusion_matrix,roc_auc_score"
      ],
      "execution_count": null,
      "outputs": []
    },
    {
      "cell_type": "code",
      "metadata": {
        "colab": {
          "base_uri": "https://localhost:8080/"
        },
        "id": "C7suKoXCiKZa",
        "outputId": "eda86e30-7438-4495-8526-ed429a3cd414"
      },
      "source": [
        "\n",
        "\n",
        "thresholds = [0.3, 0.4, 0.45, 0.5, 0.55, 0.60]\n",
        "for custom_threshold in thresholds:\n",
        "  binarizer = Binarizer(threshold=custom_threshold).fit(grid_lr_pred_proba)\n",
        "  custom_predict = binarizer.transform(grid_lr_pred_proba[:, 1].reshape(-1,1))\n",
        "  print(custom_threshold, roc_auc_score(y_test_renew, custom_predict))\n",
        "  "
      ],
      "execution_count": null,
      "outputs": [
        {
          "output_type": "stream",
          "text": [
            "0.3 0.5905130389719897\n",
            "0.4 0.5917119744227103\n",
            "0.45 0.5831261912499671\n",
            "0.5 0.5533328648848056\n",
            "0.55 0.5129950549402289\n",
            "0.6 0.5019455252918288\n"
          ],
          "name": "stdout"
        }
      ]
    },
    {
      "cell_type": "markdown",
      "metadata": {
        "id": "CE3L6TmhsxQL"
      },
      "source": [
        "### 랜덤포레스트"
      ]
    },
    {
      "cell_type": "code",
      "metadata": {
        "id": "ZpME7RxypLIu"
      },
      "source": [
        "rf_clf = RF()\n",
        "params = {\n",
        "    'min_samples_split' : [3,4,5,6,7],\n",
        "    'max_depth' : [3,5,10,50,100,1000],\n",
        "    'verbose' : [1],\n",
        "  }\n",
        "grid_rf = GS(rf_clf, param_grid=params, cv=3, scoring='roc_auc')\n",
        "grid_rf.fit(x_train_renew, y_train_renew)"
      ],
      "execution_count": null,
      "outputs": []
    },
    {
      "cell_type": "code",
      "metadata": {
        "id": "y2LYrfcAN0qf"
      },
      "source": [
        "from sklearn.metrics import accuracy_score, roc_auc_score"
      ],
      "execution_count": null,
      "outputs": []
    },
    {
      "cell_type": "code",
      "metadata": {
        "colab": {
          "base_uri": "https://localhost:8080/"
        },
        "id": "03eCFbIQOfOd",
        "outputId": "6631275a-fd01-4734-d497-7ecd9cdae10c"
      },
      "source": [
        "from sklearn.model_selection import GridSearchCV as GS"
      ],
      "execution_count": null,
      "outputs": [
        {
          "output_type": "execute_result",
          "data": {
            "text/plain": [
              "array([1, 1, 1, ..., 1, 1, 1])"
            ]
          },
          "metadata": {
            "tags": []
          },
          "execution_count": 100
        }
      ]
    },
    {
      "cell_type": "markdown",
      "metadata": {
        "id": "4vCkUPmJs0Sd"
      },
      "source": [
        "### xgboost"
      ]
    },
    {
      "cell_type": "code",
      "metadata": {
        "colab": {
          "base_uri": "https://localhost:8080/"
        },
        "id": "sisZ1Gwks1pb",
        "outputId": "3e9151e1-1fd2-4275-8ae8-81dd2272469b"
      },
      "source": [
        "xgb_clf = xgb()\n",
        "params = {\n",
        "    'learning_rate' : (0.1, 1),\n",
        "    'max_depth' : [3,5,10,50,100,1000],\n",
        "    'verbose' : [1],\n",
        "    'early_stopping_rounds' :[100],\n",
        "    'eval_metric' : ['logloss'],\n",
        "    'n_estimator' : [100,400,1000]\n",
        "  }\n",
        "grid_xgb = GS(xgb_clf, param_grid=params, cv=3, scoring='roc_auc')\n",
        "grid_xgb.fit(x_train_renew, y_train_renew.values.ravel())"
      ],
      "execution_count": null,
      "outputs": [
        {
          "output_type": "execute_result",
          "data": {
            "text/plain": [
              "GridSearchCV(cv=3, error_score=nan,\n",
              "             estimator=XGBClassifier(base_score=0.5, booster='gbtree',\n",
              "                                     colsample_bylevel=1, colsample_bynode=1,\n",
              "                                     colsample_bytree=1, gamma=0,\n",
              "                                     learning_rate=0.1, max_delta_step=0,\n",
              "                                     max_depth=3, min_child_weight=1,\n",
              "                                     missing=None, n_estimators=100, n_jobs=1,\n",
              "                                     nthread=None, objective='binary:logistic',\n",
              "                                     random_state=0, reg_alpha=0, reg_lambda=1,\n",
              "                                     scale_pos_weight=1, seed=None, silent=None,\n",
              "                                     subsample=1, verbosity=1),\n",
              "             iid='deprecated', n_jobs=None,\n",
              "             param_grid={'early_stopping_rounds': [100],\n",
              "                         'eval_metric': ['logloss'], 'learning_rate': (0.1, 1),\n",
              "                         'max_depth': [3, 5, 10, 50, 100, 1000],\n",
              "                         'n_estimator': [100, 400, 1000], 'verbose': [1]},\n",
              "             pre_dispatch='2*n_jobs', refit=True, return_train_score=False,\n",
              "             scoring='roc_auc', verbose=0)"
            ]
          },
          "metadata": {
            "tags": []
          },
          "execution_count": 60
        }
      ]
    },
    {
      "cell_type": "markdown",
      "metadata": {
        "id": "X1JE9_OFu1d6"
      },
      "source": [
        "###lightGBM"
      ]
    },
    {
      "cell_type": "code",
      "metadata": {
        "colab": {
          "base_uri": "https://localhost:8080/"
        },
        "id": "GadBMjJFuSgM",
        "outputId": "3f9254da-998d-4d19-aba3-0a44f0397adc"
      },
      "source": [
        "lgb_clr = lgb()\n",
        "params = {\n",
        "    'learning_rate' : (0.1, 1),\n",
        "    'max_depth' : [3,5,10,50,100,1000],\n",
        "    'verbose' : [1],\n",
        "    'early_stopping_rounds' :[100],\n",
        "    'eval_metric' : ['logloss'],\n",
        "    'n_estimator' : [100,400,1000],\n",
        "    'boosting' : ['rf','gbdt']\n",
        "  }\n",
        "grid_lgb = GS(xgb_clf, param_grid=params, cv=3, scoring='roc_auc')\n",
        "grid_lgb.fit(x_train_renew, y_train_renew.values.ravel())"
      ],
      "execution_count": null,
      "outputs": [
        {
          "output_type": "execute_result",
          "data": {
            "text/plain": [
              "GridSearchCV(cv=3, error_score=nan,\n",
              "             estimator=XGBClassifier(base_score=0.5, booster='gbtree',\n",
              "                                     colsample_bylevel=1, colsample_bynode=1,\n",
              "                                     colsample_bytree=1, gamma=0,\n",
              "                                     learning_rate=0.1, max_delta_step=0,\n",
              "                                     max_depth=3, min_child_weight=1,\n",
              "                                     missing=None, n_estimators=100, n_jobs=1,\n",
              "                                     nthread=None, objective='binary:logistic',\n",
              "                                     random_state=0, reg_alpha=0, reg_lambda=1,\n",
              "                                     scale_po...e, silent=None,\n",
              "                                     subsample=1, verbosity=1),\n",
              "             iid='deprecated', n_jobs=None,\n",
              "             param_grid={'boosting': ['rf', 'gbdt'],\n",
              "                         'early_stopping_rounds': [100],\n",
              "                         'eval_metric': ['logloss'], 'learning_rate': (0.1, 1),\n",
              "                         'max_depth': [3, 5, 10, 50, 100, 1000],\n",
              "                         'n_estimator': [100, 400, 1000], 'verbose': [1]},\n",
              "             pre_dispatch='2*n_jobs', refit=True, return_train_score=False,\n",
              "             scoring='roc_auc', verbose=0)"
            ]
          },
          "metadata": {
            "tags": []
          },
          "execution_count": 59
        }
      ]
    },
    {
      "cell_type": "markdown",
      "metadata": {
        "id": "SaRzZomBmlpq"
      },
      "source": [
        "#모델평가"
      ]
    },
    {
      "cell_type": "code",
      "metadata": {
        "id": "Da-5dBBBmnHG"
      },
      "source": [
        "from sklearn.metrics import accuracy_score"
      ],
      "execution_count": null,
      "outputs": []
    },
    {
      "cell_type": "code",
      "metadata": {
        "id": "RO4QrovCZlLF"
      },
      "source": [
        "pd.DataFrame(grid_lr.cv_results_)[['mean_test_score','rank_test_score','params']].sort_values('rank_test_score')"
      ],
      "execution_count": null,
      "outputs": []
    },
    {
      "cell_type": "code",
      "metadata": {
        "id": "MmQew8lhng1M"
      },
      "source": [
        "pd.DataFrame(grid_rf.cv_results_)[['mean_test_score','rank_test_score','params']].sort_values('rank_test_score')"
      ],
      "execution_count": null,
      "outputs": []
    },
    {
      "cell_type": "code",
      "metadata": {
        "id": "jEDs__YfVLQF"
      },
      "source": [
        "pd.DataFrame(grid_xgb.cv_results_)[['mean_test_score','rank_test_score','params']].sort_values('rank_test_score')"
      ],
      "execution_count": null,
      "outputs": []
    },
    {
      "cell_type": "code",
      "metadata": {
        "id": "RzERl32suuq_"
      },
      "source": [
        "pd.DataFrame(grid_lgb.cv_results_)[['mean_test_score','rank_test_score','params']].sort_values('rank_test_score')"
      ],
      "execution_count": null,
      "outputs": []
    },
    {
      "cell_type": "markdown",
      "metadata": {
        "id": "eogY6F-yv5eG"
      },
      "source": [
        "#스태킹 모델"
      ]
    },
    {
      "cell_type": "code",
      "metadata": {
        "id": "5HiRQ--Bv1Jp"
      },
      "source": [
        "from sklearn.model_selection import KFold\n",
        "\n",
        "def get_stacking_base_datasets(model, x_train, y_train, x_test, folds):\n",
        "\n",
        "  kf = KFold(n_splits=folds, shuffle=False, random_state=28)\n",
        "\n",
        "  train_fold_pred = np.zeros((x_train.shape[0],1))\n",
        "  test_pred = np.zeros((x_test.shape[0], folds))\n",
        "\n",
        "  print(model.__class__.__name__, 'model 시작')\n",
        "\n",
        "  for folder_counter, (train_index, valid_index) in enumerate(kf.split(x_train)):\n",
        "\n",
        "    x_tr = x_train[train_index]\n",
        "    y_tr = y_train[train_index]\n",
        "    x_te = x_train[valid_index]\n",
        "\n",
        "    model.fit(x_tr, y_tr)\n",
        "\n",
        "    train_fold_pred[valid_index, :] = model.predict(x_te).reshape(-1,1)\n",
        "\n",
        "    test_pred[:, folder_counter] = model.predict(x_test)\n",
        "\n",
        "  test_pred_mean = np.mean(test_pred, axis=1).reshape(-1,1)\n",
        "\n",
        "  return train_fold_pred, test_pred_mean"
      ],
      "execution_count": null,
      "outputs": []
    },
    {
      "cell_type": "code",
      "metadata": {
        "id": "nOujCm9vyHWI"
      },
      "source": [
        "rf_train, rf_test = get_stacking_base_datasets(grid_rf, x_train_renew, y_train_renew.values.ravel(), x_text_renew, 7)"
      ],
      "execution_count": null,
      "outputs": []
    },
    {
      "cell_type": "code",
      "metadata": {
        "colab": {
          "base_uri": "https://localhost:8080/"
        },
        "id": "1u5ihIVb5tTl",
        "outputId": "e62d315d-7ab5-4568-8b63-76dc10099302"
      },
      "source": [
        "xgb_train, xgb_test = get_stacking_base_datasets(grid_xgb, x_train_renew.values, y_train_renew.values.ravel(), x_text_renew.values, 7)"
      ],
      "execution_count": null,
      "outputs": [
        {
          "output_type": "stream",
          "text": [
            "/usr/local/lib/python3.7/dist-packages/sklearn/model_selection/_split.py:296: FutureWarning: Setting a random_state has no effect since shuffle is False. This will raise an error in 0.24. You should leave random_state to its default (None), or set shuffle=True.\n",
            "  FutureWarning\n"
          ],
          "name": "stderr"
        },
        {
          "output_type": "stream",
          "text": [
            "GridSearchCV model 시작\n"
          ],
          "name": "stdout"
        }
      ]
    },
    {
      "cell_type": "code",
      "metadata": {
        "colab": {
          "base_uri": "https://localhost:8080/"
        },
        "id": "NJWRL-AK882d",
        "outputId": "99ea092f-87f6-49dd-8771-c29bce2e5c86"
      },
      "source": [
        "lgb_train, lgb_test = get_stacking_base_datasets(grid_lgb, x_train_renew.values, y_train_renew.values.ravel(), x_text_renew.values, 7)"
      ],
      "execution_count": null,
      "outputs": [
        {
          "output_type": "stream",
          "text": [
            "/usr/local/lib/python3.7/dist-packages/sklearn/model_selection/_split.py:296: FutureWarning: Setting a random_state has no effect since shuffle is False. This will raise an error in 0.24. You should leave random_state to its default (None), or set shuffle=True.\n",
            "  FutureWarning\n"
          ],
          "name": "stderr"
        },
        {
          "output_type": "stream",
          "text": [
            "GridSearchCV model 시작\n"
          ],
          "name": "stdout"
        }
      ]
    },
    {
      "cell_type": "code",
      "metadata": {
        "id": "xWz4Ak8_6SDp"
      },
      "source": [
        "stack_final_x_train = np.concatenate((rf_train, xgb_train, lgb_train), axis = 1)\n",
        "stack_final_x_test = np.concatenate((rf_test, xgb_test, lgb_test), axis = 1)"
      ],
      "execution_count": null,
      "outputs": []
    },
    {
      "cell_type": "code",
      "metadata": {
        "colab": {
          "base_uri": "https://localhost:8080/"
        },
        "id": "weTUp7Qz9cYk",
        "outputId": "9aa609cf-2c47-40a1-d4ee-73b1e5c9e48f"
      },
      "source": [
        "## 최종모델 로지스틱 회귀\n",
        "lr_clf = LogisticRegression()\n",
        "\n",
        "params = {\n",
        "    'max_iter' : [1000,10000],\n",
        "    'C' : [0.1,0.5,1,5,10],\n",
        "    'penalty' : ['l1','l2'],\n",
        "    'solver' : ['liblinear'],\n",
        "    'verbose' : [0],\n",
        "}\n",
        "grid_lr = GS(lr_clf, param_grid=params, cv=3)\n",
        "grid_lr.fit(stack_final_x_train, y_train_renew.values.ravel())"
      ],
      "execution_count": null,
      "outputs": [
        {
          "output_type": "execute_result",
          "data": {
            "text/plain": [
              "GridSearchCV(cv=3, error_score=nan,\n",
              "             estimator=LogisticRegression(C=1.0, class_weight=None, dual=False,\n",
              "                                          fit_intercept=True,\n",
              "                                          intercept_scaling=1, l1_ratio=None,\n",
              "                                          max_iter=100, multi_class='auto',\n",
              "                                          n_jobs=None, penalty='l2',\n",
              "                                          random_state=None, solver='lbfgs',\n",
              "                                          tol=0.0001, verbose=0,\n",
              "                                          warm_start=False),\n",
              "             iid='deprecated', n_jobs=None,\n",
              "             param_grid={'C': [0.1, 0.5, 1, 5, 10], 'max_iter': [1000, 10000],\n",
              "                         'penalty': ['l1', 'l2'], 'solver': ['liblinear'],\n",
              "                         'verbose': [0]},\n",
              "             pre_dispatch='2*n_jobs', refit=True, return_train_score=False,\n",
              "             scoring=None, verbose=0)"
            ]
          },
          "metadata": {
            "tags": []
          },
          "execution_count": 106
        }
      ]
    },
    {
      "cell_type": "code",
      "metadata": {
        "id": "rNDVa7L0aOC7"
      },
      "source": [
        "result = pd.DataFrame(grid_lr.predict_proba(stack_final_x_train)[:,-1])\n",
        "result.to_csv(\"/content/drive/MyDrive/데이터분석 공부/data/result.csv\", encoding='euc-kr'))"
      ],
      "execution_count": null,
      "outputs": []
    }
  ]
}